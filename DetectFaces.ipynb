{
  "nbformat": 4,
  "nbformat_minor": 0,
  "metadata": {
    "accelerator": "GPU",
    "colab": {
      "name": "DetectFaces.ipynb",
      "provenance": []
    },
    "kernelspec": {
      "display_name": "Python 3",
      "name": "python3"
    }
  },
  "cells": [
    {
      "cell_type": "code",
      "metadata": {
        "colab": {
          "base_uri": "https://localhost:8080/"
        },
        "id": "Kpm39BE3anVD",
        "outputId": "4d3e8a83-810a-4f27-aed2-11401b6e6a8d"
      },
      "source": [
        "!pip install mtcnn\n",
        "!pip install keras_applications\n",
        "!pip install keras_vggface"
      ],
      "execution_count": 2,
      "outputs": [
        {
          "output_type": "stream",
          "text": [
            "Requirement already satisfied: mtcnn in /usr/local/lib/python3.6/dist-packages (0.1.0)\n",
            "Requirement already satisfied: opencv-python>=4.1.0 in /usr/local/lib/python3.6/dist-packages (from mtcnn) (4.1.2.30)\n",
            "Requirement already satisfied: keras>=2.0.0 in /usr/local/lib/python3.6/dist-packages (from mtcnn) (2.4.3)\n",
            "Requirement already satisfied: numpy>=1.11.3 in /usr/local/lib/python3.6/dist-packages (from opencv-python>=4.1.0->mtcnn) (1.18.5)\n",
            "Requirement already satisfied: scipy>=0.14 in /usr/local/lib/python3.6/dist-packages (from keras>=2.0.0->mtcnn) (1.4.1)\n",
            "Requirement already satisfied: pyyaml in /usr/local/lib/python3.6/dist-packages (from keras>=2.0.0->mtcnn) (3.13)\n",
            "Requirement already satisfied: h5py in /usr/local/lib/python3.6/dist-packages (from keras>=2.0.0->mtcnn) (2.10.0)\n",
            "Requirement already satisfied: six in /usr/local/lib/python3.6/dist-packages (from h5py->keras>=2.0.0->mtcnn) (1.15.0)\n",
            "Requirement already satisfied: keras_applications in /usr/local/lib/python3.6/dist-packages (1.0.8)\n",
            "Requirement already satisfied: numpy>=1.9.1 in /usr/local/lib/python3.6/dist-packages (from keras_applications) (1.18.5)\n",
            "Requirement already satisfied: h5py in /usr/local/lib/python3.6/dist-packages (from keras_applications) (2.10.0)\n",
            "Requirement already satisfied: six in /usr/local/lib/python3.6/dist-packages (from h5py->keras_applications) (1.15.0)\n",
            "Requirement already satisfied: keras_vggface in /usr/local/lib/python3.6/dist-packages (0.6)\n",
            "Requirement already satisfied: keras in /usr/local/lib/python3.6/dist-packages (from keras_vggface) (2.4.3)\n",
            "Requirement already satisfied: six>=1.9.0 in /usr/local/lib/python3.6/dist-packages (from keras_vggface) (1.15.0)\n",
            "Requirement already satisfied: h5py in /usr/local/lib/python3.6/dist-packages (from keras_vggface) (2.10.0)\n",
            "Requirement already satisfied: pyyaml in /usr/local/lib/python3.6/dist-packages (from keras_vggface) (3.13)\n",
            "Requirement already satisfied: scipy>=0.14 in /usr/local/lib/python3.6/dist-packages (from keras_vggface) (1.4.1)\n",
            "Requirement already satisfied: numpy>=1.9.1 in /usr/local/lib/python3.6/dist-packages (from keras_vggface) (1.18.5)\n",
            "Requirement already satisfied: pillow in /usr/local/lib/python3.6/dist-packages (from keras_vggface) (7.0.0)\n"
          ],
          "name": "stdout"
        }
      ]
    },
    {
      "cell_type": "code",
      "metadata": {
        "id": "D1zmsWeHZ4Zh"
      },
      "source": [
        "import mtcnn\n",
        "import keras_vggface\n",
        "import matplotlib.pyplot as plt\n",
        "from mtcnn.mtcnn import MTCNN\n",
        "import cv2\n",
        "from PIL import Image\n",
        "import numpy as np\n",
        "import pandas as pd\n",
        "import os\n",
        "import tensorflow as tf\n",
        "import zipfile\n",
        "import tensorflow as tf\n",
        "from tensorflow.python.keras.api._v1 import keras\n",
        "from tensorflow.python.keras.api._v1.keras import layers\n",
        "from tensorflow.python.keras.layers.core import Dropout\n",
        "from tensorflow.keras.optimizers import RMSprop\n",
        "from tensorflow.keras.preprocessing.image import ImageDataGenerator\n",
        "import json\n",
        "import time"
      ],
      "execution_count": 3,
      "outputs": []
    },
    {
      "cell_type": "code",
      "metadata": {
        "id": "pjPjrh7zElJQ"
      },
      "source": [
        "detector = MTCNN()"
      ],
      "execution_count": 4,
      "outputs": []
    },
    {
      "cell_type": "code",
      "metadata": {
        "id": "_5aQkrEaaFGX"
      },
      "source": [
        "# extract all faces from a given photograph\n",
        "def extract_faces(pixels, detector, required_size=(150, 150)):\n",
        "    results = detector.detect_faces(pixels)\n",
        "    faces_array = []\n",
        "    if(len(results) > 0):\n",
        "        for obj in results:\n",
        "            x1, y1, width, height = obj['box']\n",
        "            x2, y2 = x1 + width, y1 + height\n",
        "            face = pixels[y1:y2, x1:x2]\n",
        "            if(len(face) > 0 and len(face[0]) > 0):\n",
        "                image = Image.fromarray(face)\n",
        "                image = image.resize(required_size)\n",
        "                face_array = np.asarray(image)\n",
        "            faces_array.append(face_array)\n",
        "    return faces_array"
      ],
      "execution_count": 5,
      "outputs": []
    },
    {
      "cell_type": "code",
      "metadata": {
        "id": "BGpTvDzebZrl"
      },
      "source": [
        "def load_images_from_folder(folder):\n",
        "    images = []\n",
        "    for filename in os.listdir(folder):\n",
        "        img = plt.imread(os.path.join(folder,filename))\n",
        "        if img is not None:\n",
        "            images.append(img)\n",
        "    return images"
      ],
      "execution_count": 6,
      "outputs": []
    },
    {
      "cell_type": "code",
      "metadata": {
        "colab": {
          "base_uri": "https://localhost:8080/"
        },
        "id": "_aHsRio2cErF",
        "outputId": "e48c9904-114a-4f50-9caf-07febe3f78f6"
      },
      "source": [
        "from google.colab import drive\n",
        "drive.mount('/content/drive')"
      ],
      "execution_count": 7,
      "outputs": [
        {
          "output_type": "stream",
          "text": [
            "Mounted at /content/drive\n"
          ],
          "name": "stdout"
        }
      ]
    },
    {
      "cell_type": "code",
      "metadata": {
        "id": "MqFsx-mUcg3j"
      },
      "source": [
        "mask_images = load_images_from_folder('/content/drive/Shareddrives/484 fall 2020/random_stuff/input')"
      ],
      "execution_count": 8,
      "outputs": []
    },
    {
      "cell_type": "code",
      "metadata": {
        "id": "oXJYrPUTc3BU"
      },
      "source": [
        "#read in images and collect all faces\n",
        "output = []\n",
        "for image in mask_images:\n",
        "    pixels = extract_faces(image, detector)\n",
        "    for obj in pixels:\n",
        "        output.append(obj)"
      ],
      "execution_count": 9,
      "outputs": []
    },
    {
      "cell_type": "code",
      "metadata": {
        "id": "WeDg7qrXlZwU"
      },
      "source": [
        "#write faces to file\n",
        "root = '/content/drive/Shareddrives/484 fall 2020/random_stuff/output'\n",
        "counter = 0\n",
        "for image in output:\n",
        "    name = 'img' + str(counter) + '.jpg'\n",
        "    temp = root + name\n",
        "    if(len(image) > 0):\n",
        "        image = cv2.cvtColor(image, cv2.COLOR_BGR2GRAY)\n",
        "        cv2.imwrite(temp, np.array(image))\n",
        "        counter = counter + 1"
      ],
      "execution_count": null,
      "outputs": []
    },
    {
      "cell_type": "code",
      "metadata": {
        "id": "swWCikGw006h"
      },
      "source": [
        "model = tf.keras.models.load_model('/content/drive/Shareddrives/484 fall 2020/trained/model-1606455604')"
      ],
      "execution_count": 16,
      "outputs": []
    },
    {
      "cell_type": "code",
      "metadata": {
        "id": "y34bqo9zOOBr"
      },
      "source": [
        "reshaped = []\n",
        "for obj in output:\n",
        "    image = cv2.cvtColor(obj, cv2.COLOR_BGR2GRAY)\n",
        "    image = tf.reshape(image, [-1, 150, 150, 1])\n",
        "    reshaped.append(image)"
      ],
      "execution_count": 13,
      "outputs": []
    },
    {
      "cell_type": "code",
      "metadata": {
        "colab": {
          "base_uri": "https://localhost:8080/"
        },
        "id": "NLOtJGHSPuW9",
        "outputId": "681f3989-3c15-439b-e496-ab7f46b5cef3"
      },
      "source": [
        "for obj in reshaped:\n",
        "    print(model.predict(obj))"
      ],
      "execution_count": 35,
      "outputs": [
        {
          "output_type": "stream",
          "text": [
            "[[0. 0. 1.]]\n",
            "[[0. 0. 1.]]\n",
            "[[0. 0. 1.]]\n",
            "[[0. 0. 1.]]\n",
            "[[0. 0. 1.]]\n",
            "[[0. 0. 1.]]\n",
            "[[0. 0. 1.]]\n",
            "[[0. 0. 1.]]\n",
            "[[0. 0. 1.]]\n"
          ],
          "name": "stdout"
        }
      ]
    },
    {
      "cell_type": "code",
      "metadata": {
        "id": "rUsDwQXRTC46"
      },
      "source": [
        ""
      ],
      "execution_count": null,
      "outputs": []
    }
  ]
}